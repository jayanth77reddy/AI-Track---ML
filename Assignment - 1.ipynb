{
 "cells": [
  {
   "cell_type": "code",
   "execution_count": 1,
   "metadata": {},
   "outputs": [
    {
     "name": "stdout",
     "output_type": "stream",
     "text": [
      "     con: array([], dtype=float64)\n",
      "     fun: -5778.9473684210525\n",
      " message: 'Optimization terminated successfully.'\n",
      "     nit: 2\n",
      "   slack: array([0., 0.])\n",
      "  status: 0\n",
      " success: True\n",
      "       x: array([97.89473684,  7.36842105])\n"
     ]
    }
   ],
   "source": [
    "from scipy.optimize import linprog\n",
    "obj=[-50,-120]\n",
    "lhs=[[7000,2000],[10,30]]\n",
    "rhs=[700000,1200]\n",
    "boundary=[(0,float(\"inf\")),(0,float(\"inf\"))]\n",
    "opt=linprog(c=obj,A_ub=lhs,b_ub=rhs,bounds=boundary,method=\"simplex\")\n",
    "print(opt)"
   ]
  },
  {
   "cell_type": "code",
   "execution_count": null,
   "metadata": {},
   "outputs": [],
   "source": []
  }
 ],
 "metadata": {
  "kernelspec": {
   "display_name": "Python 3",
   "language": "python",
   "name": "python3"
  },
  "language_info": {
   "codemirror_mode": {
    "name": "ipython",
    "version": 3
   },
   "file_extension": ".py",
   "mimetype": "text/x-python",
   "name": "python",
   "nbconvert_exporter": "python",
   "pygments_lexer": "ipython3",
   "version": "3.7.6"
  }
 },
 "nbformat": 4,
 "nbformat_minor": 4
}
